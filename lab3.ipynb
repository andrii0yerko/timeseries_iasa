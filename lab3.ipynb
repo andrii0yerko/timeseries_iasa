{
 "cells": [
  {
   "cell_type": "code",
   "execution_count": 1,
   "metadata": {},
   "outputs": [],
   "source": [
    "import numpy as np\n",
    "import pandas as pd\n",
    "import matplotlib.pyplot as plt\n",
    "\n",
    "plt.style.use('seaborn-whitegrid')\n",
    "np.set_printoptions(precision=6, suppress = True)\n",
    "pd.options.display.float_format = '{:.6f}'.format"
   ]
  },
  {
   "cell_type": "markdown",
   "metadata": {},
   "source": [
    "## Частина перша: статистика Дарбіна-Уотсона"
   ]
  },
  {
   "cell_type": "code",
   "execution_count": 2,
   "metadata": {},
   "outputs": [],
   "source": [
    "def DurbinWatson(eps):\n",
    "    return ((eps[1:] - eps[:-1])**2).sum()/(eps**2).sum()"
   ]
  },
  {
   "cell_type": "code",
   "execution_count": 3,
   "metadata": {},
   "outputs": [],
   "source": [
    "dw_test = np.loadtxt('./lab3_data/example_for_DW.txt')"
   ]
  },
  {
   "cell_type": "code",
   "execution_count": 4,
   "metadata": {},
   "outputs": [
    {
     "data": {
      "text/plain": [
       "1.2288100804239723"
      ]
     },
     "execution_count": 4,
     "metadata": {},
     "output_type": "execute_result"
    }
   ],
   "source": [
    "DurbinWatson(dw_test)"
   ]
  },
  {
   "cell_type": "markdown",
   "metadata": {},
   "source": [
    "## Частина друга: побудова адекватного рівняння для опису процесу"
   ]
  },
  {
   "cell_type": "code",
   "execution_count": 5,
   "metadata": {},
   "outputs": [],
   "source": [
    "rts1 = pd.read_csv('./lab3_data/rts1.txt', squeeze=True, header=None, names=['rts1'])\n",
    "rts1996 = pd.read_csv('./lab3_data/1996rts1.txt', squeeze=True, header=None, names=['1996rts1'])"
   ]
  },
  {
   "cell_type": "markdown",
   "metadata": {},
   "source": [
    "Описові характеристики та гістрограма"
   ]
  },
  {
   "cell_type": "code",
   "execution_count": 6,
   "metadata": {},
   "outputs": [],
   "source": [
    "from scipy.stats import jarque_bera\n",
    "\n",
    "def DescrStats(series):\n",
    "    return pd.Series({\n",
    "        'Mean': series.mean(),\n",
    "        'Median': series.median(),\n",
    "        'Maximum': series.max(),\n",
    "        'Minimum': series.min(),\n",
    "        'Std. Dev.': series.std(),\n",
    "        'Skewness': series.skew(),\n",
    "        'Kurtosis': series.kurt(),\n",
    "        'Jarque-Bera': jarque_bera(series).statistic,\n",
    "        'Probability': jarque_bera(series).pvalue\n",
    "    })"
   ]
  },
  {
   "cell_type": "code",
   "execution_count": 7,
   "metadata": {},
   "outputs": [
    {
     "name": "stdout",
     "output_type": "stream",
     "text": [
      "Mean          2043.537303\n",
      "Median        2068.170000\n",
      "Maximum       2487.920000\n",
      "Minimum       1058.840000\n",
      "Std. Dev.      289.921448\n",
      "Skewness        -1.082895\n",
      "Kurtosis         1.442272\n",
      "Jarque-Bera     48.094769\n",
      "Probability      0.000000\n",
      "dtype: float64\n"
     ]
    },
    {
     "data": {
      "image/png": "[encoded data removed]",
      "text/plain": [
       "<Figure size 432x288 with 1 Axes>"
      ]
     },
     "metadata": {},
     "output_type": "display_data"
    }
   ],
   "source": [
    "print(DescrStats(rts1))\n",
    "plt.hist(rts1, bins=30, facecolor='tab:blue', edgecolor='black')\n",
    "plt.show()"
   ]
  },
  {
   "cell_type": "code",
   "execution_count": 8,
   "metadata": {},
   "outputs": [
    {
     "name": "stdout",
     "output_type": "stream",
     "text": [
      "Mean          142.147390\n",
      "Median        163.150000\n",
      "Maximum       227.790000\n",
      "Minimum        66.690000\n",
      "Std. Dev.      46.972694\n",
      "Skewness       -0.360544\n",
      "Kurtosis       -1.473238\n",
      "Jarque-Bera    27.682686\n",
      "Probability     0.000001\n",
      "dtype: float64\n"
     ]
    },
    {
     "data": {
      "image/png": "[encoded data removed]",
      "text/plain": [
       "<Figure size 432x288 with 1 Axes>"
      ]
     },
     "metadata": {},
     "output_type": "display_data"
    }
   ],
   "source": [
    "print(DescrStats(rts1996))\n",
    "plt.hist(rts1996, bins=30, facecolor='tab:blue', edgecolor='black')\n",
    "plt.show()"
   ]
  },
  {
   "cell_type": "markdown",
   "metadata": {},
   "source": [
    "Реалізація АКФ, ЧАКФ та ковзних середніх (з ЛР №2)"
   ]
  },
  {
   "cell_type": "code",
   "execution_count": 9,
   "metadata": {},
   "outputs": [],
   "source": [
    "def ACF(data, maxlag=None):\n",
    "    N = maxlag if maxlag else data.size\n",
    "    return np.array([((data - data.mean()) * (data.shift(s) - data.mean())).sum()\n",
    "            / ((data.size - 1) * data.var())\n",
    "            for s in range(1, data.size+1)][:N])\n",
    "\n",
    "def PACF(data, maxlag=None):\n",
    "    N = maxlag if maxlag else data.size\n",
    "    r = ACF(data)\n",
    "    phi = np.zeros((N, N))\n",
    "    phi[0, 0] = r[0]   \n",
    "    for k in range(1, N):\n",
    "        sum_top = sum([phi[k-1, j]*r[k-1-j] for j in range (0, k)])\n",
    "        sum_bottom = sum([phi[k-1, j]*r[j] for j in range (0, k)])\n",
    "        phi[k, k] = (r[k] - sum_top) / (1 - sum_bottom)\n",
    "        for j in range(0, k):\n",
    "            phi[k, j] = phi[k-1, j] - phi[k, k]*phi[k-1, k-1-j]\n",
    "            phi[j, k] = phi[k, j]      \n",
    "    return np.diag(phi)\n",
    "\n",
    "def SMA(data, N):\n",
    "    sma = data.rolling(N).mean()\n",
    "    sma.name += f' SMA (N={N})'\n",
    "    return sma\n",
    "\n",
    "def EMA(data, N, return_weights=False):\n",
    "    a = 2 / (N + 1)\n",
    "    w = [(1 - a)**n for n in range(N, 0, -1)]\n",
    "    ema = data.rolling(N).apply(lambda window: (w * window).sum() / sum(w))\n",
    "    ema.name += f' EMA (N={N})'\n",
    "    return (ema, w) if return_weights else ema"
   ]
  },
  {
   "cell_type": "markdown",
   "metadata": {},
   "source": [
    "Статистики для моделі"
   ]
  },
  {
   "cell_type": "code",
   "execution_count": 10,
   "metadata": {},
   "outputs": [],
   "source": [
    "def sum_squared_error(y_true, y_pred):\n",
    "    return ((y_true - y_pred)**2).sum()\n",
    "\n",
    "def r_squared(y_true, y_pred):\n",
    "    return y_pred.var()/y_true.var()\n",
    "\n",
    "def log_likelihood(y_true, y_pred):\n",
    "    N = len(y_pred)\n",
    "    return -N/2*(np.log(2*np.pi) + np.log(sum_squared_error(y_true, y_pred)/N))\n",
    "\n",
    "def akaike(y_true, y_pred, ARMA):\n",
    "    n = sum(ARMA) + 1\n",
    "    N = y_true.size \n",
    "    return -2*log_likelihood(y_true, y_pred)/N + 2*n/N\n",
    "\n",
    "def schwarz(y_true, y_pred, ARMA):\n",
    "    n = sum(ARMA) + 1\n",
    "    N = y_true.size \n",
    "    return -2*log_likelihood(y_true, y_pred)/N + n*np.log(N)/N\n",
    "\n",
    "def ModelEstimation(y_true, y_pred, ARMA):\n",
    "    N = len(y_pred)\n",
    "    n = sum(ARMA) + 1\n",
    "    return pd.Series({\n",
    "        'R-squared': r_squared(y_true, y_pred),\n",
    "        'Adjusted R-squared': 1 - (1-r_squared(y_true, y_pred))*((N-1)/(N-n-1)),\n",
    "        'S.E. of regression': np.sqrt(sum_squared_error(y_true, y_pred)/N),\n",
    "        'Sum squared resid': sum_squared_error(y_true, y_pred),\n",
    "        'Log likelihood': log_likelihood(y_true, y_pred),\n",
    "        'Durbin-Watson stat': DurbinWatson(y_pred - y_true),\n",
    "        'Mean dependent var': y_pred.mean(),\n",
    "        'S.D. dependent var': y_pred.std(),\n",
    "        'Akaike info criterion': akaike(y_true, y_pred, ARMA),\n",
    "        'Schwarz criterion': schwarz(y_true, y_pred, ARMA)\n",
    "    })"
   ]
  },
  {
   "cell_type": "markdown",
   "metadata": {},
   "source": [
    "Побудова моделі"
   ]
  },
  {
   "cell_type": "code",
   "execution_count": 11,
   "metadata": {},
   "outputs": [],
   "source": [
    "def ARMA(y, ma_window, ma_type, method='resid', pacf_tolerance=None):\n",
    "    \"\"\"\n",
    "    Estimate (p, q) for ARMA(p, q) and fit to y\n",
    "    \n",
    "    y               - time series\n",
    "    ma_window       - moving average window\n",
    "    ma_type         - sma or ema for simple or exponential moving average\n",
    "    method          - way of estimating q\n",
    "    pacf_tolerance  - threshold for choosing q by PACF, \n",
    "                      if None, using 1.96/sqrt(len(y))\n",
    "    Methods:\n",
    "        resid       - q estimated using PACF of AR(p) residuals\n",
    "        direct_1    - q estimated using PACF of y moving average, coefs are precomputed\n",
    "        direct_2    - q estimated using PACF of y moving average, coefs are fitted\n",
    "    \"\"\"\n",
    "    N = ma_window\n",
    "    if pacf_tolerance is None:\n",
    "        pacf_tolerance = 1.96 / np.sqrt(len(y))\n",
    "    try:\n",
    "        p = np.where(abs(PACF(y, maxlag=12)) >= pacf_tolerance)[0].max()+1\n",
    "    except ValueError:\n",
    "        p = 0\n",
    "\n",
    "    if method == 'resid':\n",
    "        Y = np.ones((len(y)-p, p+1))\n",
    "        for k in range(1, p+1):\n",
    "            Y[:, k] = y[p-k:-k]\n",
    "        a_coef = np.linalg.pinv(Y.T @ Y) @ Y.T @ y[p:]\n",
    "        residuals = y[p:] - Y @ a_coef\n",
    "        try:\n",
    "            q = np.where(abs(PACF(residuals.dropna(), maxlag=12)) >= pacf_tolerance)[0].max()+1\n",
    "        except ValueError:\n",
    "            q = 0\n",
    "        if ma_type == 'sma':\n",
    "            ma = SMA(residuals, N)\n",
    "        elif ma_type == 'ema':\n",
    "            ma = EMA(residuals, N)\n",
    "        else: raise ValueError('unknown Moving Average type') \n",
    "        ma = ma.dropna()\n",
    "        actual = y[ma.index[0]:]\n",
    "        X = np.ones((len(actual)-max(p, q), p+q+1))\n",
    "        for k in range(1, p+1):\n",
    "            X[:, k] = actual[max(p, q)-k:-k]\n",
    "        for k in range(1, q+1):\n",
    "            X[:, p+k] = ma[max(p, q)-k:-k]\n",
    "        a_coef = np.linalg.pinv(X.T @ X) @ X.T @ (actual - ma)[max(p, q):]\n",
    "        fitted = X @ a_coef + ma[max(p, q):]\n",
    "        fitted.name += ' fitted'\n",
    "        actual = actual[max(p, q):]\n",
    "\n",
    "    elif method == 'direct_1' or method == 'direct_2':\n",
    "        if ma_type == 'sma':\n",
    "            ma = SMA(y, N).dropna()\n",
    "        elif ma_type == 'ema':\n",
    "            ma = EMA(y, N).dropna()\n",
    "        else: raise ValueError('unknown Moving Average type') \n",
    "        try:\n",
    "            q = np.where(abs(PACF(ma, maxlag=12)) >= pacf_tolerance)[0].max()+1\n",
    "        except ValueError:\n",
    "            q = 0\n",
    "        actual = y[ma.index[0]:]\n",
    "        if method == 'direct_1':\n",
    "            alpha = 2/(q+1)\n",
    "            b_coef = np.array([(1-alpha)**j for j in range(1, q+1)])\n",
    "            b_coef = b_coef/b_coef.sum() if q>1 else np.ones(1)\n",
    "            ma_matrix = np.ones((len(ma)-q, q))\n",
    "            for k in range(q):\n",
    "                ma_matrix[:, q-k-1] = ma.shift(q-k)[q:]\n",
    "            y1 = actual[q:] - ma[q:] - ma_matrix @ b_coef\n",
    "            Y = np.ones((len(y1), p+1))\n",
    "            start_ind = y1.index[0]\n",
    "            for k in range(1, p+1):\n",
    "                Y[:, k] = y[start_ind-k:-k]\n",
    "            a_coef = np.linalg.pinv(Y.T @ Y) @ Y.T @ y1\n",
    "            actual = (y1 + ma_matrix @ b_coef + ma).dropna()\n",
    "            fitted = Y @ a_coef + ma_matrix @ b_coef + ma[q:]\n",
    "            fitted.name += ' fitted'\n",
    "            a_coef = np.concatenate((a_coef, b_coef))\n",
    "        if method == 'direct_2':\n",
    "            start_ind = ma.index[0] + q\n",
    "            X = np.ones((len(ma)-q, p+q+1))\n",
    "            for k in range(1, q+1):\n",
    "                X[:, p+k] = ma.shift(k)[q:]\n",
    "            for k in range(1, p+1):\n",
    "                X[:, k] = y[start_ind-k:-k]\n",
    "            a_coef = np.linalg.pinv(X.T @ X) @ X.T @ (actual - ma)[q:]\n",
    "            fitted = X @ a_coef + ma[q:]\n",
    "            fitted.name += ' fitted'\n",
    "            actual = actual[q:]\n",
    "    else: raise ValueError('unknown method type')  \n",
    "\n",
    "    return {'actual': actual,\n",
    "            'fitted': fitted,\n",
    "            'coefficients': a_coef,\n",
    "            'residuals': actual - fitted,\n",
    "            'moving_average': ma,\n",
    "            'model_order': (p, q)}\n"
   ]
  },
  {
   "cell_type": "code",
   "execution_count": 12,
   "metadata": {},
   "outputs": [
    {
     "name": "stdout",
     "output_type": "stream",
     "text": [
      "R-squared                  0.990581\n",
      "Adjusted R-squared         0.990341\n",
      "S.E. of regression         3.023243\n",
      "Sum squared resid       2221.019720\n",
      "Log likelihood          -492.140285\n",
      "Durbin-Watson stat         2.006812\n",
      "Mean dependent var       143.444815\n",
      "S.D. dependent var        46.490474\n",
      "Akaike info criterion      4.099920\n",
      "Schwarz criterion          4.186168\n",
      "dtype: float64\n",
      "\n",
      "\n",
      "y(k) = 0.8197 + 0.8416*y(k-1) - 0.4333*y(k-2) + 0.1878*y(k-3) + mv(k) - 0.6791*mv(k-1) + 0.0790*mv(k-2) \n"
     ]
    },
    {
     "data": {
      "image/png": "[encoded data removed]",
      "text/plain": [
       "<Figure size 432x288 with 1 Axes>"
      ]
     },
     "metadata": {},
     "output_type": "display_data"
    }
   ],
   "source": [
    "model_params = {\n",
    "    'y': rts1996,\n",
    "    'ma_window': 5,\n",
    "    'ma_type': 'ema',\n",
    "    'method': 'direct_2'\n",
    "}\n",
    "estim = ARMA(**model_params)\n",
    "plt.plot(model_params['y'], label='Actual', color='tab:red')\n",
    "plt.plot(estim['fitted'], label='Fitted', color='tab:green')\n",
    "plt.title(f'{model_params[\"y\"].name} | ARMA{estim[\"model_order\"]}, {model_params[\"ma_type\"]}, N={model_params[\"ma_window\"]}')\n",
    "plt.legend(loc='lower center', ncol=2)\n",
    "print(ModelEstimation(estim['actual'].values, estim['fitted'].values, estim['model_order']))\n",
    "print('\\n')\n",
    "\n",
    "p, q = estim['model_order']\n",
    "coef = estim['coefficients']\n",
    "eq = f'y(k) = {coef[0]:.4f} '\n",
    "for k in range(1, p+1):\n",
    "    eq += f'+ {coef[k]:.4f}*y(k-{k}) ' if coef[k]>=0 else f'- {-coef[k]:.4f}*y(k-{k}) '\n",
    "eq += '+ mv(k) '\n",
    "for k in range(1, q+1):\n",
    "    eq += f'+ {coef[p+k]:.4f}*mv(k-{k}) ' if coef[p+k]>=0 else f'- {-coef[p+k]:.4f}*mv(k-{k}) '\n",
    "print(eq)"
   ]
  },
  {
   "cell_type": "markdown",
   "metadata": {},
   "source": [
    "## Частина третя: побудова рівняння множинної регресії."
   ]
  },
  {
   "cell_type": "code",
   "execution_count": 13,
   "metadata": {},
   "outputs": [],
   "source": [
    "def pearson_correlation(x, y):\n",
    "    if x.shape != y.shape: raise ValueError(\"Shapes must be equal\")\n",
    "    return np.sum((x-x.mean()) * (y-y.mean())) / (x.std() * y.std() * (len(x)-1))"
   ]
  },
  {
   "cell_type": "code",
   "execution_count": 14,
   "metadata": {},
   "outputs": [
    {
     "data": {
      "text/html": [
       "<div>\n",
       "<style scoped>\n",
       "    .dataframe tbody tr th:only-of-type {\n",
       "        vertical-align: middle;\n",
       "    }\n",
       "\n",
       "    .dataframe tbody tr th {\n",
       "        vertical-align: top;\n",
       "    }\n",
       "\n",
       "    .dataframe thead th {\n",
       "        text-align: right;\n",
       "    }\n",
       "</style>\n",
       "<table border=\"1\" class=\"dataframe\">\n",
       "  <thead>\n",
       "    <tr style=\"text-align: right;\">\n",
       "      <th></th>\n",
       "      <th>rts1</th>\n",
       "      <th>RTScr</th>\n",
       "      <th>RTSeu</th>\n",
       "      <th>RTSfn</th>\n",
       "      <th>RTSin</th>\n",
       "      <th>RTSmm</th>\n",
       "      <th>RTSog</th>\n",
       "      <th>RTStl</th>\n",
       "    </tr>\n",
       "  </thead>\n",
       "  <tbody>\n",
       "    <tr>\n",
       "      <th>0</th>\n",
       "      <td>2296.560000</td>\n",
       "      <td>374.120000</td>\n",
       "      <td>465.290000</td>\n",
       "      <td>786.310000</td>\n",
       "      <td>408.620000</td>\n",
       "      <td>363.970000</td>\n",
       "      <td>288.900000</td>\n",
       "      <td>322.850000</td>\n",
       "    </tr>\n",
       "    <tr>\n",
       "      <th>1</th>\n",
       "      <td>2306.870000</td>\n",
       "      <td>376.170000</td>\n",
       "      <td>463.220000</td>\n",
       "      <td>788.790000</td>\n",
       "      <td>409.330000</td>\n",
       "      <td>368.810000</td>\n",
       "      <td>289.560000</td>\n",
       "      <td>322.590000</td>\n",
       "    </tr>\n",
       "    <tr>\n",
       "      <th>2</th>\n",
       "      <td>2313.900000</td>\n",
       "      <td>380.340000</td>\n",
       "      <td>463.920000</td>\n",
       "      <td>792.270000</td>\n",
       "      <td>413.300000</td>\n",
       "      <td>369.500000</td>\n",
       "      <td>289.200000</td>\n",
       "      <td>324.090000</td>\n",
       "    </tr>\n",
       "    <tr>\n",
       "      <th>3</th>\n",
       "      <td>2339.790000</td>\n",
       "      <td>382.760000</td>\n",
       "      <td>465.090000</td>\n",
       "      <td>796.210000</td>\n",
       "      <td>414.340000</td>\n",
       "      <td>376.520000</td>\n",
       "      <td>293.300000</td>\n",
       "      <td>328.120000</td>\n",
       "    </tr>\n",
       "    <tr>\n",
       "      <th>4</th>\n",
       "      <td>2330.870000</td>\n",
       "      <td>386.370000</td>\n",
       "      <td>468.230000</td>\n",
       "      <td>793.430000</td>\n",
       "      <td>417.960000</td>\n",
       "      <td>376.050000</td>\n",
       "      <td>291.390000</td>\n",
       "      <td>328.720000</td>\n",
       "    </tr>\n",
       "  </tbody>\n",
       "</table>\n",
       "</div>"
      ],
      "text/plain": [
       "         rts1      RTScr      RTSeu      RTSfn      RTSin      RTSmm  \\\n",
       "0 2296.560000 374.120000 465.290000 786.310000 408.620000 363.970000   \n",
       "1 2306.870000 376.170000 463.220000 788.790000 409.330000 368.810000   \n",
       "2 2313.900000 380.340000 463.920000 792.270000 413.300000 369.500000   \n",
       "3 2339.790000 382.760000 465.090000 796.210000 414.340000 376.520000   \n",
       "4 2330.870000 386.370000 468.230000 793.430000 417.960000 376.050000   \n",
       "\n",
       "       RTSog      RTStl  \n",
       "0 288.900000 322.850000  \n",
       "1 289.560000 322.590000  \n",
       "2 289.200000 324.090000  \n",
       "3 293.300000 328.120000  \n",
       "4 291.390000 328.720000  "
      ]
     },
     "execution_count": 14,
     "metadata": {},
     "output_type": "execute_result"
    }
   ],
   "source": [
    "import re\n",
    "import os\n",
    "\n",
    "df = pd.read_csv('./lab3_data/rts1.txt', header=None, names=['rts1'])\n",
    "\n",
    "rts = [file for file in os.listdir('./lab3_data') if re.match(r'^RTS', file)]\n",
    "\n",
    "for index in rts:\n",
    "    df[index.split('.')[0]] = np.loadtxt('./lab3_data/'+index)\n",
    "    \n",
    "df.head()"
   ]
  },
  {
   "cell_type": "code",
   "execution_count": 15,
   "metadata": {},
   "outputs": [
    {
     "data": {
      "text/html": [
       "<div>\n",
       "<style scoped>\n",
       "    .dataframe tbody tr th:only-of-type {\n",
       "        vertical-align: middle;\n",
       "    }\n",
       "\n",
       "    .dataframe tbody tr th {\n",
       "        vertical-align: top;\n",
       "    }\n",
       "\n",
       "    .dataframe thead th {\n",
       "        text-align: right;\n",
       "    }\n",
       "</style>\n",
       "<table border=\"1\" class=\"dataframe\">\n",
       "  <thead>\n",
       "    <tr style=\"text-align: right;\">\n",
       "      <th></th>\n",
       "      <th>rts1</th>\n",
       "      <th>RTScr</th>\n",
       "      <th>RTSeu</th>\n",
       "      <th>RTSfn</th>\n",
       "      <th>RTSin</th>\n",
       "      <th>RTSmm</th>\n",
       "      <th>RTSog</th>\n",
       "      <th>RTStl</th>\n",
       "    </tr>\n",
       "  </thead>\n",
       "  <tbody>\n",
       "    <tr>\n",
       "      <th>rts1</th>\n",
       "      <td>1.000000</td>\n",
       "      <td>0.848433</td>\n",
       "      <td>0.638377</td>\n",
       "      <td>0.879438</td>\n",
       "      <td>0.859188</td>\n",
       "      <td>0.928940</td>\n",
       "      <td>0.961389</td>\n",
       "      <td>0.822547</td>\n",
       "    </tr>\n",
       "    <tr>\n",
       "      <th>RTScr</th>\n",
       "      <td>0.848433</td>\n",
       "      <td>1.000000</td>\n",
       "      <td>0.929083</td>\n",
       "      <td>0.960564</td>\n",
       "      <td>0.897707</td>\n",
       "      <td>0.851709</td>\n",
       "      <td>0.682340</td>\n",
       "      <td>0.956929</td>\n",
       "    </tr>\n",
       "    <tr>\n",
       "      <th>RTSeu</th>\n",
       "      <td>0.638377</td>\n",
       "      <td>0.929083</td>\n",
       "      <td>1.000000</td>\n",
       "      <td>0.878301</td>\n",
       "      <td>0.794041</td>\n",
       "      <td>0.697672</td>\n",
       "      <td>0.412473</td>\n",
       "      <td>0.887168</td>\n",
       "    </tr>\n",
       "    <tr>\n",
       "      <th>RTSfn</th>\n",
       "      <td>0.879438</td>\n",
       "      <td>0.960564</td>\n",
       "      <td>0.878301</td>\n",
       "      <td>1.000000</td>\n",
       "      <td>0.828220</td>\n",
       "      <td>0.808881</td>\n",
       "      <td>0.739310</td>\n",
       "      <td>0.925300</td>\n",
       "    </tr>\n",
       "    <tr>\n",
       "      <th>RTSin</th>\n",
       "      <td>0.859188</td>\n",
       "      <td>0.897707</td>\n",
       "      <td>0.794041</td>\n",
       "      <td>0.828220</td>\n",
       "      <td>1.000000</td>\n",
       "      <td>0.944448</td>\n",
       "      <td>0.726153</td>\n",
       "      <td>0.886036</td>\n",
       "    </tr>\n",
       "    <tr>\n",
       "      <th>RTSmm</th>\n",
       "      <td>0.928940</td>\n",
       "      <td>0.851709</td>\n",
       "      <td>0.697672</td>\n",
       "      <td>0.808881</td>\n",
       "      <td>0.944448</td>\n",
       "      <td>1.000000</td>\n",
       "      <td>0.841226</td>\n",
       "      <td>0.798230</td>\n",
       "    </tr>\n",
       "    <tr>\n",
       "      <th>RTSog</th>\n",
       "      <td>0.961389</td>\n",
       "      <td>0.682340</td>\n",
       "      <td>0.412473</td>\n",
       "      <td>0.739310</td>\n",
       "      <td>0.726153</td>\n",
       "      <td>0.841226</td>\n",
       "      <td>1.000000</td>\n",
       "      <td>0.667557</td>\n",
       "    </tr>\n",
       "    <tr>\n",
       "      <th>RTStl</th>\n",
       "      <td>0.822547</td>\n",
       "      <td>0.956929</td>\n",
       "      <td>0.887168</td>\n",
       "      <td>0.925300</td>\n",
       "      <td>0.886036</td>\n",
       "      <td>0.798230</td>\n",
       "      <td>0.667557</td>\n",
       "      <td>1.000000</td>\n",
       "    </tr>\n",
       "  </tbody>\n",
       "</table>\n",
       "</div>"
      ],
      "text/plain": [
       "          rts1    RTScr    RTSeu    RTSfn    RTSin    RTSmm    RTSog    RTStl\n",
       "rts1  1.000000 0.848433 0.638377 0.879438 0.859188 0.928940 0.961389 0.822547\n",
       "RTScr 0.848433 1.000000 0.929083 0.960564 0.897707 0.851709 0.682340 0.956929\n",
       "RTSeu 0.638377 0.929083 1.000000 0.878301 0.794041 0.697672 0.412473 0.887168\n",
       "RTSfn 0.879438 0.960564 0.878301 1.000000 0.828220 0.808881 0.739310 0.925300\n",
       "RTSin 0.859188 0.897707 0.794041 0.828220 1.000000 0.944448 0.726153 0.886036\n",
       "RTSmm 0.928940 0.851709 0.697672 0.808881 0.944448 1.000000 0.841226 0.798230\n",
       "RTSog 0.961389 0.682340 0.412473 0.739310 0.726153 0.841226 1.000000 0.667557\n",
       "RTStl 0.822547 0.956929 0.887168 0.925300 0.886036 0.798230 0.667557 1.000000"
      ]
     },
     "execution_count": 15,
     "metadata": {},
     "output_type": "execute_result"
    }
   ],
   "source": [
    "corr = pd.DataFrame(\n",
    "    [df.apply(lambda x: pearson_correlation(x, df[col1])) for col1 in df.columns],\n",
    "    index = df.columns\n",
    ")\n",
    "\n",
    "corr"
   ]
  },
  {
   "cell_type": "markdown",
   "metadata": {},
   "source": [
    "Результати аналогічні вбудованій функції, тому надалі для зручності використовуватимемо саме її"
   ]
  },
  {
   "cell_type": "code",
   "execution_count": 16,
   "metadata": {},
   "outputs": [
    {
     "data": {
      "text/html": [
       "<div>\n",
       "<style scoped>\n",
       "    .dataframe tbody tr th:only-of-type {\n",
       "        vertical-align: middle;\n",
       "    }\n",
       "\n",
       "    .dataframe tbody tr th {\n",
       "        vertical-align: top;\n",
       "    }\n",
       "\n",
       "    .dataframe thead th {\n",
       "        text-align: right;\n",
       "    }\n",
       "</style>\n",
       "<table border=\"1\" class=\"dataframe\">\n",
       "  <thead>\n",
       "    <tr style=\"text-align: right;\">\n",
       "      <th></th>\n",
       "      <th>rts1</th>\n",
       "      <th>RTScr</th>\n",
       "      <th>RTSeu</th>\n",
       "      <th>RTSfn</th>\n",
       "      <th>RTSin</th>\n",
       "      <th>RTSmm</th>\n",
       "      <th>RTSog</th>\n",
       "      <th>RTStl</th>\n",
       "    </tr>\n",
       "  </thead>\n",
       "  <tbody>\n",
       "    <tr>\n",
       "      <th>rts1</th>\n",
       "      <td>1.000000</td>\n",
       "      <td>0.848433</td>\n",
       "      <td>0.638377</td>\n",
       "      <td>0.879438</td>\n",
       "      <td>0.859188</td>\n",
       "      <td>0.928940</td>\n",
       "      <td>0.961389</td>\n",
       "      <td>0.822547</td>\n",
       "    </tr>\n",
       "    <tr>\n",
       "      <th>RTScr</th>\n",
       "      <td>0.848433</td>\n",
       "      <td>1.000000</td>\n",
       "      <td>0.929083</td>\n",
       "      <td>0.960564</td>\n",
       "      <td>0.897707</td>\n",
       "      <td>0.851709</td>\n",
       "      <td>0.682340</td>\n",
       "      <td>0.956929</td>\n",
       "    </tr>\n",
       "    <tr>\n",
       "      <th>RTSeu</th>\n",
       "      <td>0.638377</td>\n",
       "      <td>0.929083</td>\n",
       "      <td>1.000000</td>\n",
       "      <td>0.878301</td>\n",
       "      <td>0.794041</td>\n",
       "      <td>0.697672</td>\n",
       "      <td>0.412473</td>\n",
       "      <td>0.887168</td>\n",
       "    </tr>\n",
       "    <tr>\n",
       "      <th>RTSfn</th>\n",
       "      <td>0.879438</td>\n",
       "      <td>0.960564</td>\n",
       "      <td>0.878301</td>\n",
       "      <td>1.000000</td>\n",
       "      <td>0.828220</td>\n",
       "      <td>0.808881</td>\n",
       "      <td>0.739310</td>\n",
       "      <td>0.925300</td>\n",
       "    </tr>\n",
       "    <tr>\n",
       "      <th>RTSin</th>\n",
       "      <td>0.859188</td>\n",
       "      <td>0.897707</td>\n",
       "      <td>0.794041</td>\n",
       "      <td>0.828220</td>\n",
       "      <td>1.000000</td>\n",
       "      <td>0.944448</td>\n",
       "      <td>0.726153</td>\n",
       "      <td>0.886036</td>\n",
       "    </tr>\n",
       "    <tr>\n",
       "      <th>RTSmm</th>\n",
       "      <td>0.928940</td>\n",
       "      <td>0.851709</td>\n",
       "      <td>0.697672</td>\n",
       "      <td>0.808881</td>\n",
       "      <td>0.944448</td>\n",
       "      <td>1.000000</td>\n",
       "      <td>0.841226</td>\n",
       "      <td>0.798230</td>\n",
       "    </tr>\n",
       "    <tr>\n",
       "      <th>RTSog</th>\n",
       "      <td>0.961389</td>\n",
       "      <td>0.682340</td>\n",
       "      <td>0.412473</td>\n",
       "      <td>0.739310</td>\n",
       "      <td>0.726153</td>\n",
       "      <td>0.841226</td>\n",
       "      <td>1.000000</td>\n",
       "      <td>0.667557</td>\n",
       "    </tr>\n",
       "    <tr>\n",
       "      <th>RTStl</th>\n",
       "      <td>0.822547</td>\n",
       "      <td>0.956929</td>\n",
       "      <td>0.887168</td>\n",
       "      <td>0.925300</td>\n",
       "      <td>0.886036</td>\n",
       "      <td>0.798230</td>\n",
       "      <td>0.667557</td>\n",
       "      <td>1.000000</td>\n",
       "    </tr>\n",
       "  </tbody>\n",
       "</table>\n",
       "</div>"
      ],
      "text/plain": [
       "          rts1    RTScr    RTSeu    RTSfn    RTSin    RTSmm    RTSog    RTStl\n",
       "rts1  1.000000 0.848433 0.638377 0.879438 0.859188 0.928940 0.961389 0.822547\n",
       "RTScr 0.848433 1.000000 0.929083 0.960564 0.897707 0.851709 0.682340 0.956929\n",
       "RTSeu 0.638377 0.929083 1.000000 0.878301 0.794041 0.697672 0.412473 0.887168\n",
       "RTSfn 0.879438 0.960564 0.878301 1.000000 0.828220 0.808881 0.739310 0.925300\n",
       "RTSin 0.859188 0.897707 0.794041 0.828220 1.000000 0.944448 0.726153 0.886036\n",
       "RTSmm 0.928940 0.851709 0.697672 0.808881 0.944448 1.000000 0.841226 0.798230\n",
       "RTSog 0.961389 0.682340 0.412473 0.739310 0.726153 0.841226 1.000000 0.667557\n",
       "RTStl 0.822547 0.956929 0.887168 0.925300 0.886036 0.798230 0.667557 1.000000"
      ]
     },
     "execution_count": 16,
     "metadata": {},
     "output_type": "execute_result"
    }
   ],
   "source": [
    "df.corr()"
   ]
  },
  {
   "cell_type": "code",
   "execution_count": 17,
   "metadata": {
    "scrolled": true
   },
   "outputs": [
    {
     "data": {
      "text/html": [
       "<div>\n",
       "<style scoped>\n",
       "    .dataframe tbody tr th:only-of-type {\n",
       "        vertical-align: middle;\n",
       "    }\n",
       "\n",
       "    .dataframe tbody tr th {\n",
       "        vertical-align: top;\n",
       "    }\n",
       "\n",
       "    .dataframe thead th {\n",
       "        text-align: right;\n",
       "    }\n",
       "</style>\n",
       "<table border=\"1\" class=\"dataframe\">\n",
       "  <thead>\n",
       "    <tr style=\"text-align: right;\">\n",
       "      <th></th>\n",
       "      <th>rts1</th>\n",
       "      <th>RTStl</th>\n",
       "      <th>RTScr</th>\n",
       "      <th>RTSfn</th>\n",
       "    </tr>\n",
       "  </thead>\n",
       "  <tbody>\n",
       "    <tr>\n",
       "      <th>rts1</th>\n",
       "      <td>1.000000</td>\n",
       "      <td>0.822547</td>\n",
       "      <td>0.848433</td>\n",
       "      <td>0.879438</td>\n",
       "    </tr>\n",
       "    <tr>\n",
       "      <th>RTStl</th>\n",
       "      <td>0.822547</td>\n",
       "      <td>1.000000</td>\n",
       "      <td>0.956929</td>\n",
       "      <td>0.925300</td>\n",
       "    </tr>\n",
       "    <tr>\n",
       "      <th>RTScr</th>\n",
       "      <td>0.848433</td>\n",
       "      <td>0.956929</td>\n",
       "      <td>1.000000</td>\n",
       "      <td>0.960564</td>\n",
       "    </tr>\n",
       "    <tr>\n",
       "      <th>RTSfn</th>\n",
       "      <td>0.879438</td>\n",
       "      <td>0.925300</td>\n",
       "      <td>0.960564</td>\n",
       "      <td>1.000000</td>\n",
       "    </tr>\n",
       "  </tbody>\n",
       "</table>\n",
       "</div>"
      ],
      "text/plain": [
       "          rts1    RTStl    RTScr    RTSfn\n",
       "rts1  1.000000 0.822547 0.848433 0.879438\n",
       "RTStl 0.822547 1.000000 0.956929 0.925300\n",
       "RTScr 0.848433 0.956929 1.000000 0.960564\n",
       "RTSfn 0.879438 0.925300 0.960564 1.000000"
      ]
     },
     "execution_count": 17,
     "metadata": {},
     "output_type": "execute_result"
    }
   ],
   "source": [
    "df[['rts1', 'RTStl', 'RTScr', 'RTSfn']].corr()"
   ]
  },
  {
   "cell_type": "markdown",
   "metadata": {},
   "source": [
    "Спостерігаємо сильну корреляцію між змінними RTStl, RTScr, RTSfn, з трьох залишимо RTSfn, оскільки вона корелює з цільовою змінною найсильніше\n",
    "\n",
    "Змінна RTSeu має порівняно невеликий коефіцієнт корреляції з rts1, проте й не має суттєвої корреляції з іншими змінними, тому залишимо її в списку предикторів.\n",
    "\n",
    "Останньою неоднозначною змінною залишається RTSin, що сильно корелює з RTSmm. Спробуємо її також прибрати"
   ]
  },
  {
   "cell_type": "code",
   "execution_count": 18,
   "metadata": {},
   "outputs": [
    {
     "data": {
      "text/html": [
       "<div>\n",
       "<style scoped>\n",
       "    .dataframe tbody tr th:only-of-type {\n",
       "        vertical-align: middle;\n",
       "    }\n",
       "\n",
       "    .dataframe tbody tr th {\n",
       "        vertical-align: top;\n",
       "    }\n",
       "\n",
       "    .dataframe thead th {\n",
       "        text-align: right;\n",
       "    }\n",
       "</style>\n",
       "<table border=\"1\" class=\"dataframe\">\n",
       "  <thead>\n",
       "    <tr style=\"text-align: right;\">\n",
       "      <th></th>\n",
       "      <th>rts1</th>\n",
       "      <th>RTSeu</th>\n",
       "      <th>RTSfn</th>\n",
       "      <th>RTSmm</th>\n",
       "      <th>RTSog</th>\n",
       "    </tr>\n",
       "  </thead>\n",
       "  <tbody>\n",
       "    <tr>\n",
       "      <th>rts1</th>\n",
       "      <td>1.000000</td>\n",
       "      <td>0.638377</td>\n",
       "      <td>0.879438</td>\n",
       "      <td>0.928940</td>\n",
       "      <td>0.961389</td>\n",
       "    </tr>\n",
       "    <tr>\n",
       "      <th>RTSeu</th>\n",
       "      <td>0.638377</td>\n",
       "      <td>1.000000</td>\n",
       "      <td>0.878301</td>\n",
       "      <td>0.697672</td>\n",
       "      <td>0.412473</td>\n",
       "    </tr>\n",
       "    <tr>\n",
       "      <th>RTSfn</th>\n",
       "      <td>0.879438</td>\n",
       "      <td>0.878301</td>\n",
       "      <td>1.000000</td>\n",
       "      <td>0.808881</td>\n",
       "      <td>0.739310</td>\n",
       "    </tr>\n",
       "    <tr>\n",
       "      <th>RTSmm</th>\n",
       "      <td>0.928940</td>\n",
       "      <td>0.697672</td>\n",
       "      <td>0.808881</td>\n",
       "      <td>1.000000</td>\n",
       "      <td>0.841226</td>\n",
       "    </tr>\n",
       "    <tr>\n",
       "      <th>RTSog</th>\n",
       "      <td>0.961389</td>\n",
       "      <td>0.412473</td>\n",
       "      <td>0.739310</td>\n",
       "      <td>0.841226</td>\n",
       "      <td>1.000000</td>\n",
       "    </tr>\n",
       "  </tbody>\n",
       "</table>\n",
       "</div>"
      ],
      "text/plain": [
       "          rts1    RTSeu    RTSfn    RTSmm    RTSog\n",
       "rts1  1.000000 0.638377 0.879438 0.928940 0.961389\n",
       "RTSeu 0.638377 1.000000 0.878301 0.697672 0.412473\n",
       "RTSfn 0.879438 0.878301 1.000000 0.808881 0.739310\n",
       "RTSmm 0.928940 0.697672 0.808881 1.000000 0.841226\n",
       "RTSog 0.961389 0.412473 0.739310 0.841226 1.000000"
      ]
     },
     "execution_count": 18,
     "metadata": {},
     "output_type": "execute_result"
    }
   ],
   "source": [
    "excluded = {'rts1', 'RTStl', 'RTScr', 'RTSin'}\n",
    "predictors = sorted(list(set(df.columns) - excluded))\n",
    "df[['rts1'] + predictors].corr()"
   ]
  },
  {
   "cell_type": "code",
   "execution_count": 19,
   "metadata": {},
   "outputs": [
    {
     "data": {
      "text/plain": [
       "['RTSeu', 'RTSfn', 'RTSmm', 'RTSog']"
      ]
     },
     "execution_count": 19,
     "metadata": {},
     "output_type": "execute_result"
    }
   ],
   "source": [
    "predictors"
   ]
  },
  {
   "cell_type": "code",
   "execution_count": 20,
   "metadata": {},
   "outputs": [
    {
     "name": "stdout",
     "output_type": "stream",
     "text": [
      "R-squared                   0.998994\n",
      "Adjusted R-squared          0.998965\n",
      "S.E. of regression          9.170486\n",
      "Sum squared resid       14969.410467\n",
      "Log likelihood           -558.017327\n",
      "Durbin-Watson stat          0.360584\n",
      "Mean dependent var       2043.537303\n",
      "S.D. dependent var        288.960434\n",
      "Akaike info criterion       6.326037\n",
      "Schwarz criterion           6.415413\n",
      "dtype: float64\n"
     ]
    },
    {
     "data": {
      "image/png": "[encoded data removed]",
      "text/plain": [
       "<Figure size 432x288 with 1 Axes>"
      ]
     },
     "metadata": {},
     "output_type": "display_data"
    }
   ],
   "source": [
    "import statsmodels.api as sm\n",
    "\n",
    "y = df['rts1']\n",
    "X = df[predictors]\n",
    "\n",
    "X = sm.add_constant(X)\n",
    "lr = sm.OLS(y, X).fit()\n",
    "\n",
    "plt.plot(rts1, label='Actual', color='tab:red')\n",
    "plt.plot(lr.predict(X), label='Fitted', color='tab:green')\n",
    "plt.title(f'rts1 | Linear Regression on {predictors}')\n",
    "plt.legend(loc='lower center', ncol=2)\n",
    "print(ModelEstimation(y.values, lr.predict(X).values, (len(predictors), )))"
   ]
  },
  {
   "cell_type": "markdown",
   "metadata": {},
   "source": [
    "## Частина четверта: творча, ARMAX"
   ]
  },
  {
   "cell_type": "markdown",
   "metadata": {},
   "source": [
    "Реалізація ЧКФ"
   ]
  },
  {
   "cell_type": "code",
   "execution_count": 21,
   "metadata": {
    "scrolled": false
   },
   "outputs": [],
   "source": [
    "def PCF(y, x, maxlag=None):\n",
    "    N = maxlag+1 if maxlag else 1\n",
    "    r = [pearson_correlation(x.shift(k)[k:], y[k:]) for k in range(N)]\n",
    "    phi = np.zeros((N, N))\n",
    "    phi[0, 0] = r[0]   \n",
    "    for k in range(1, N):\n",
    "        sum_top = sum([phi[k-1, j]*r[k-1-j] for j in range (0, k)])\n",
    "        sum_bottom = sum([phi[k-1, j]*r[j] for j in range (0, k)])\n",
    "        phi[k, k] = (r[k] - sum_top) / (1 - sum_bottom)\n",
    "        for j in range(0, k):\n",
    "            phi[k, j] = phi[k-1, j] - phi[k, k]*phi[k-1, k-1-j]\n",
    "            phi[j, k] = phi[k, j]      \n",
    "    return np.diag(phi)"
   ]
  },
  {
   "cell_type": "markdown",
   "metadata": {},
   "source": [
    "Розглянемо лише ті змінні, які включили в попередню модель регресії"
   ]
  },
  {
   "cell_type": "code",
   "execution_count": 22,
   "metadata": {},
   "outputs": [
    {
     "data": {
      "text/html": [
       "<div>\n",
       "<style scoped>\n",
       "    .dataframe tbody tr th:only-of-type {\n",
       "        vertical-align: middle;\n",
       "    }\n",
       "\n",
       "    .dataframe tbody tr th {\n",
       "        vertical-align: top;\n",
       "    }\n",
       "\n",
       "    .dataframe thead th {\n",
       "        text-align: right;\n",
       "    }\n",
       "</style>\n",
       "<table border=\"1\" class=\"dataframe\">\n",
       "  <thead>\n",
       "    <tr style=\"text-align: right;\">\n",
       "      <th></th>\n",
       "      <th>RTSeu</th>\n",
       "      <th>RTSfn</th>\n",
       "      <th>RTSmm</th>\n",
       "      <th>RTSog</th>\n",
       "    </tr>\n",
       "  </thead>\n",
       "  <tbody>\n",
       "    <tr>\n",
       "      <th>0</th>\n",
       "      <td>0.638377</td>\n",
       "      <td>0.879438</td>\n",
       "      <td>0.928940</td>\n",
       "      <td>0.961389</td>\n",
       "    </tr>\n",
       "    <tr>\n",
       "      <th>1</th>\n",
       "      <td>0.355045</td>\n",
       "      <td>0.381713</td>\n",
       "      <td>0.468520</td>\n",
       "      <td>0.284708</td>\n",
       "    </tr>\n",
       "    <tr>\n",
       "      <th>2</th>\n",
       "      <td>0.220042</td>\n",
       "      <td>0.187953</td>\n",
       "      <td>0.292865</td>\n",
       "      <td>0.013817</td>\n",
       "    </tr>\n",
       "    <tr>\n",
       "      <th>3</th>\n",
       "      <td>0.139585</td>\n",
       "      <td>0.100980</td>\n",
       "      <td>0.207105</td>\n",
       "      <td>-0.024324</td>\n",
       "    </tr>\n",
       "    <tr>\n",
       "      <th>4</th>\n",
       "      <td>0.086991</td>\n",
       "      <td>0.037840</td>\n",
       "      <td>0.172166</td>\n",
       "      <td>-0.027809</td>\n",
       "    </tr>\n",
       "    <tr>\n",
       "      <th>5</th>\n",
       "      <td>0.054748</td>\n",
       "      <td>-0.000295</td>\n",
       "      <td>0.169422</td>\n",
       "      <td>0.006279</td>\n",
       "    </tr>\n",
       "    <tr>\n",
       "      <th>6</th>\n",
       "      <td>0.037164</td>\n",
       "      <td>-0.006252</td>\n",
       "      <td>0.116981</td>\n",
       "      <td>-0.071175</td>\n",
       "    </tr>\n",
       "    <tr>\n",
       "      <th>7</th>\n",
       "      <td>0.027557</td>\n",
       "      <td>-0.002099</td>\n",
       "      <td>0.057525</td>\n",
       "      <td>-0.065246</td>\n",
       "    </tr>\n",
       "    <tr>\n",
       "      <th>8</th>\n",
       "      <td>0.024877</td>\n",
       "      <td>-0.005768</td>\n",
       "      <td>0.017534</td>\n",
       "      <td>-0.037691</td>\n",
       "    </tr>\n",
       "    <tr>\n",
       "      <th>9</th>\n",
       "      <td>0.038678</td>\n",
       "      <td>0.019894</td>\n",
       "      <td>-0.027633</td>\n",
       "      <td>0.002663</td>\n",
       "    </tr>\n",
       "    <tr>\n",
       "      <th>10</th>\n",
       "      <td>0.052042</td>\n",
       "      <td>0.018252</td>\n",
       "      <td>-0.057184</td>\n",
       "      <td>0.050827</td>\n",
       "    </tr>\n",
       "    <tr>\n",
       "      <th>11</th>\n",
       "      <td>0.063420</td>\n",
       "      <td>0.033609</td>\n",
       "      <td>-0.084637</td>\n",
       "      <td>0.017333</td>\n",
       "    </tr>\n",
       "    <tr>\n",
       "      <th>12</th>\n",
       "      <td>0.055760</td>\n",
       "      <td>0.001709</td>\n",
       "      <td>-0.134292</td>\n",
       "      <td>-0.072182</td>\n",
       "    </tr>\n",
       "  </tbody>\n",
       "</table>\n",
       "</div>"
      ],
      "text/plain": [
       "      RTSeu     RTSfn     RTSmm     RTSog\n",
       "0  0.638377  0.879438  0.928940  0.961389\n",
       "1  0.355045  0.381713  0.468520  0.284708\n",
       "2  0.220042  0.187953  0.292865  0.013817\n",
       "3  0.139585  0.100980  0.207105 -0.024324\n",
       "4  0.086991  0.037840  0.172166 -0.027809\n",
       "5  0.054748 -0.000295  0.169422  0.006279\n",
       "6  0.037164 -0.006252  0.116981 -0.071175\n",
       "7  0.027557 -0.002099  0.057525 -0.065246\n",
       "8  0.024877 -0.005768  0.017534 -0.037691\n",
       "9  0.038678  0.019894 -0.027633  0.002663\n",
       "10 0.052042  0.018252 -0.057184  0.050827\n",
       "11 0.063420  0.033609 -0.084637  0.017333\n",
       "12 0.055760  0.001709 -0.134292 -0.072182"
      ]
     },
     "execution_count": 22,
     "metadata": {},
     "output_type": "execute_result"
    }
   ],
   "source": [
    "pcf = X.iloc[:,1:].apply(lambda x: PCF(y, x, 12))\n",
    "pcf"
   ]
  },
  {
   "cell_type": "code",
   "execution_count": 23,
   "metadata": {},
   "outputs": [
    {
     "data": {
      "image/png": "[encoded data removed]",
      "text/plain": [
       "<Figure size 864x504 with 4 Axes>"
      ]
     },
     "metadata": {},
     "output_type": "display_data"
    }
   ],
   "source": [
    "fig, ax = plt.subplots(2, 2, figsize=(12, 7))\n",
    "var_names = X.columns[1:].to_numpy().reshape((2, 2))\n",
    "threshold = 1.96/np.sqrt(len(X))\n",
    "\n",
    "def bar_color(values, threshold):\n",
    "    mask = abs(values) > threshold\n",
    "    return ['tab:green' if m else 'tab:red' for m in mask]\n",
    "\n",
    "for i in range(2):\n",
    "    for j in range(2):\n",
    "        ax[i][j].bar(np.arange(13), pcf[var_names[i, j]], \n",
    "                     color=bar_color(pcf[var_names[i, j]], threshold))\n",
    "        ax[i][j].axhline(threshold, c='black', linestyle='dashed')\n",
    "        ax[i][j].axhline(-threshold, c='black', linestyle='dashed')\n",
    "        ax[i][j].set_title(var_names[i, j])"
   ]
  },
  {
   "cell_type": "code",
   "execution_count": 24,
   "metadata": {},
   "outputs": [
    {
     "data": {
      "text/plain": [
       "RTSeu    2\n",
       "RTSfn    2\n",
       "RTSmm    5\n",
       "RTSog    1\n",
       "dtype: int64"
      ]
     },
     "execution_count": 24,
     "metadata": {},
     "output_type": "execute_result"
    }
   ],
   "source": [
    "exog_orders = (abs(pcf) > threshold).sum() - 1\n",
    "exog_orders"
   ]
  },
  {
   "cell_type": "markdown",
   "metadata": {},
   "source": [
    "Отже, включимо до моделі:\n",
    "\n",
    "- `RTSeu(k)`, `RTSeu(k-1)`, `RTSeu(k-2)`\n",
    "\n",
    "- `RTSfn(k)`, `RTSfn(k-1)`, `RTSfn(k-2)`\n",
    "\n",
    "- `RTSmm(k)`, `RTSmm(k-1)`, `RTSmm(k-2)`, `RTSmm(k-3)`, `RTSmm(k-4)`, `RTSmm(k-5)`\n",
    "\n",
    "- `RTSog(k)`, `RTSog(k-1)`"
   ]
  },
  {
   "cell_type": "markdown",
   "metadata": {},
   "source": [
    "Порядки AR та MA для цього ряду визначали раніше - це 2 та 1 відповідно. Ковзне середнє будемо будувати по самому ряду, спробувавши різні N та звичайне/експоненціальне КС."
   ]
  },
  {
   "cell_type": "code",
   "execution_count": 25,
   "metadata": {},
   "outputs": [],
   "source": [
    "def ARMAX(y, ma_window, ma_type, exog, p, q, b):\n",
    "    \"\"\"\n",
    "    Fit ARMAX(p, q, b) to y and exog variables\n",
    "    \n",
    "    y           - time series\n",
    "    ma_window   - moving average window\n",
    "    ma_type     - sma or ema for simple or exponential moving average\n",
    "    exog        - exogenous variables, DataFrame of shape (len(y), n_exog)\n",
    "    p, q, b     - orders of AR, MA, X\n",
    "                  b can be list of n_exog length\n",
    "    \"\"\"\n",
    "    N = ma_window\n",
    "    if ma_type == 'sma':\n",
    "        ma = SMA(y, N)\n",
    "    elif ma_type == 'ema':\n",
    "        ma = EMA(y, N)\n",
    "    else: raise ValueError('unknown Moving Average type')\n",
    "    n = len(y)\n",
    "    X = np.ones((n, p+q+sum(b)+len(b)+1))\n",
    "    column_names = ['const']\n",
    "    for k in range(1, p+1):\n",
    "        column_names.append(f'{y.name}(k-{k})')\n",
    "    for k in range(1, q+1):\n",
    "        column_names.append(f'{y.name}_mv(k-{k})')\n",
    "    for ind, name in enumerate(exog.columns):\n",
    "        column_names.append(f'{name}(k)')\n",
    "        for k in range(1, b[ind]+1):\n",
    "               column_names.append(f'{name}(k-{k})')\n",
    "    Y = pd.DataFrame(X, columns=column_names)\n",
    "    for k in range(1, p+1):\n",
    "        Y.loc[:, f'{y.name}(k-{k})'] = y.shift(k) \n",
    "    for k in range(1, q+1):\n",
    "        Y.loc[:, f'{y.name}_mv(k-{k})'] = ma.shift(k)  \n",
    "    for ind, name in enumerate(exog.columns):\n",
    "        Y.loc[:, f'{name}(k)'] = exog[name]\n",
    "        for k in range(1, b[ind]+1):\n",
    "               Y.loc[:, f'{name}(k-{k})'] = exog[name].shift(k)\n",
    "    Y_np = Y.dropna().to_numpy()\n",
    "    actual = (y-ma)[Y.dropna().index[0]:]\n",
    "    coefs = (np.linalg.pinv(Y_np.T @ Y_np) @ Y_np.T) @ actual\n",
    "    fitted = Y.dropna() @ coefs + ma[Y.dropna().index[0]:]\n",
    "\n",
    "    return {'actual': actual + ma[Y.dropna().index[0]:],\n",
    "            'fitted': fitted,\n",
    "            'coefficients': coefs,\n",
    "            'residuals': actual - fitted,\n",
    "            'moving_average': ma,\n",
    "            'model_order': (p, q, b),\n",
    "            'column_names': Y.columns}"
   ]
  },
  {
   "cell_type": "code",
   "execution_count": 26,
   "metadata": {},
   "outputs": [
    {
     "name": "stdout",
     "output_type": "stream",
     "text": [
      "R-squared                  0.999811\n",
      "Adjusted R-squared         0.999794\n",
      "S.E. of regression         2.828032\n",
      "Sum squared resid       1383.613355\n",
      "Log likelihood          -338.823891\n",
      "Durbin-Watson stat         1.913166\n",
      "Mean dependent var      2035.616474\n",
      "S.D. dependent var       289.380979\n",
      "Akaike info criterion      4.078889\n",
      "Schwarz criterion          4.334069\n",
      "dtype: float64\n"
     ]
    },
    {
     "data": {
      "image/png": "[encoded data removed]",
      "text/plain": [
       "<Figure size 432x288 with 1 Axes>"
      ]
     },
     "metadata": {},
     "output_type": "display_data"
    }
   ],
   "source": [
    "armax_params = {\n",
    "    'y': rts1,\n",
    "    'ma_window': 5,\n",
    "    'ma_type': 'ema',\n",
    "    'exog': X.iloc[:, 1:],\n",
    "    'p': 2, 'q': 1, 'b': exog_orders.values\n",
    "}\n",
    "\n",
    "estim_armax = ARMAX(**armax_params)\n",
    "plt.plot(armax_params['y'], label='Actual', color='tab:red')\n",
    "plt.plot(estim_armax['fitted'], label='Fitted', color='tab:green')\n",
    "plt.title(f'{armax_params[\"y\"].name} | ARMAX({estim_armax[\"model_order\"][0]}, {estim_armax[\"model_order\"][1]}, {tuple(estim_armax[\"model_order\"][-1])}), {armax_params[\"ma_type\"]}, N={armax_params[\"ma_window\"]}\\n on exog = {predictors}')\n",
    "plt.legend(loc='lower center', ncol=2)\n",
    "print(ModelEstimation(estim_armax['actual'].values, estim_armax['fitted'].values, estim_armax['model_order'][:-1]+tuple(estim_armax['model_order'][-1])))"
   ]
  },
  {
   "cell_type": "code",
   "execution_count": 27,
   "metadata": {},
   "outputs": [
    {
     "name": "stdout",
     "output_type": "stream",
     "text": [
      "-3.390703\t const\n",
      "0.446212\t rts1(k-1)\n",
      "-0.062645\t rts1(k-2)\n",
      "-0.486403\t rts1_mv(k-1)\n",
      "0.136764\t RTSeu(k)\n",
      "-0.119917\t RTSeu(k-1)\n",
      "-0.006671\t RTSeu(k-2)\n",
      "0.514195\t RTSfn(k)\n",
      "-0.399764\t RTSfn(k-1)\n",
      "-0.024307\t RTSfn(k-2)\n",
      "0.690120\t RTSmm(k)\n",
      "-0.733973\t RTSmm(k-1)\n",
      "0.294112\t RTSmm(k-2)\n",
      "-0.312364\t RTSmm(k-3)\n",
      "-0.021636\t RTSmm(k-4)\n",
      "0.203364\t RTSmm(k-5)\n",
      "2.804154\t RTSog(k)\n",
      "-2.386013\t RTSog(k-1)\n"
     ]
    }
   ],
   "source": [
    "for (coef, name) in zip(estim_armax['coefficients'], estim_armax['column_names']):\n",
    "    print(f'{coef:.6f}\\t', name)"
   ]
  },
  {
   "cell_type": "code",
   "execution_count": null,
   "metadata": {},
   "outputs": [],
   "source": []
  }
 ],
 "metadata": {
  "kernelspec": {
   "display_name": "Python 3",
   "language": "python",
   "name": "python3"
  },
  "language_info": {
   "codemirror_mode": {
    "name": "ipython",
    "version": 3
   },
   "file_extension": ".py",
   "mimetype": "text/x-python",
   "name": "python",
   "nbconvert_exporter": "python",
   "pygments_lexer": "ipython3",
   "version": "3.7.4"
  }
 },
 "nbformat": 4,
 "nbformat_minor": 2
}
